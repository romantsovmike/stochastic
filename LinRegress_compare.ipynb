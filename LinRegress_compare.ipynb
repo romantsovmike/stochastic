{
  "nbformat": 4,
  "nbformat_minor": 0,
  "metadata": {
    "colab": {
      "name": "LinRegress_compare.ipynb",
      "provenance": [],
      "collapsed_sections": []
    },
    "kernelspec": {
      "name": "python3",
      "display_name": "Python 3"
    },
    "language_info": {
      "name": "python"
    }
  },
  "cells": [
    {
      "cell_type": "code",
      "metadata": {
        "id": "nzhm3_1IKUjP"
      },
      "source": [
        "import numpy as np\n",
        "import torch\n",
        "import torch.nn as nn\n",
        "import matplotlib.pyplot as plt\n",
        "import time"
      ],
      "execution_count": null,
      "outputs": []
    },
    {
      "cell_type": "code",
      "metadata": {
        "id": "zBO2326nKasR"
      },
      "source": [
        "#Генерация данных\n",
        "def generate_data(N, d):\n",
        "  noise_std = 0.1\n",
        "  X = np.random.randn(N, d)\n",
        "  w = np.random.randn(d)\n",
        "  y = torch.FloatTensor(X) @ torch.FloatTensor(w).t()\n",
        "  y += torch.randn_like(y) * noise_std\n",
        "  y = y.tolist()\n",
        "  return X, y"
      ],
      "execution_count": null,
      "outputs": []
    },
    {
      "cell_type": "code",
      "metadata": {
        "id": "SOHKkgrrKau2"
      },
      "source": [
        "#Разделение данных на N машин и приведение к тензорам\n",
        "def separate_data(lst, num_cores):\n",
        "  result = []\n",
        "  size_per_core = len(lst) // num_cores\n",
        "  size_last_core = size_per_core + len(lst) % num_cores\n",
        "  if num_cores > 1:\n",
        "    for i in range(num_cores - 1):\n",
        "      result.append(lst[i:(i+1) * size_per_core])\n",
        "  else: i = 0\n",
        "  result.append(lst[(i*size_per_core + 1):])\n",
        "  for i in range(len(result)):\n",
        "    result[i] = torch.FloatTensor(result[i])\n",
        "    result[i].requires_grad = True\n",
        "  return result"
      ],
      "execution_count": null,
      "outputs": []
    },
    {
      "cell_type": "code",
      "metadata": {
        "id": "PF5lUgrOW6qt"
      },
      "source": [
        "#Функция для усреднения весов после прохождения эпохи\n",
        "def avg_w(w):\n",
        "  d = w[0].shape[0]  #размер тензора\n",
        "  avg = np.zeros(d)\n",
        "  for el in w:\n",
        "    for i in range(len(el.tolist())):\n",
        "      avg[i] += el.tolist()[i]\n",
        "  for j in range(len(avg)):\n",
        "    avg[j] /= len(w)\n",
        "  result = []\n",
        "  for i in range(len(w)):\n",
        "    result.append(avg)\n",
        "    result[i] = torch.FloatTensor(result[i])\n",
        "    result[i].requires_grad = True\n",
        "  return result"
      ],
      "execution_count": null,
      "outputs": []
    },
    {
      "cell_type": "code",
      "metadata": {
        "id": "gwtCkjWGKaxL"
      },
      "source": [
        "def model(x, w):\n",
        "  return x @ w.t()"
      ],
      "execution_count": null,
      "outputs": []
    },
    {
      "cell_type": "code",
      "metadata": {
        "id": "1zR81z2aNk-w"
      },
      "source": [
        "def MSE(orig, predicted):\n",
        "  diff = predicted - orig\n",
        "  return torch.sum(diff * diff) / diff.numel()"
      ],
      "execution_count": null,
      "outputs": []
    },
    {
      "cell_type": "code",
      "metadata": {
        "id": "NNtMuXtg85aN"
      },
      "source": [
        "def learning_func(X, w, y):\n",
        "  optimizer = torch.optim.SGD([w], lr=0.01)\n",
        "  y_predicted = model(X, w)\n",
        "  loss = MSE(y_predicted, y)\n",
        "  loss.backward(retain_graph=True)\n",
        "  optimizer.step()\n",
        "  optimizer.zero_grad()\n",
        "  return loss"
      ],
      "execution_count": null,
      "outputs": []
    },
    {
      "cell_type": "code",
      "metadata": {
        "id": "gipECnvwLPK5"
      },
      "source": [
        "N = 100000\n",
        "d = 1\n",
        "noise_std = 0.1\n",
        "num_machines = 5 #количество компов\n",
        "X_orig, y_orig = generate_data(N, d)\n",
        "X = separate_data(X_orig, num_machines)\n",
        "y = separate_data(y_orig, num_machines)\n",
        "X_s = torch.FloatTensor(X_orig)\n",
        "X_s.requires_grad = True\n",
        "y_s = torch.FloatTensor(y_orig)\n",
        "y_s.requires_grad = True\n",
        "w = []\n",
        "w_orig = np.random.randn(d)\n",
        "w_s = torch.FloatTensor(w_orig)\n",
        "w_s.requires_grad = True\n",
        "for i in range(num_machines):\n",
        "  w.append(w_orig)\n",
        "  w[i] = torch.FloatTensor(w[i])\n",
        "  w[i].requires_grad = True"
      ],
      "execution_count": null,
      "outputs": []
    },
    {
      "cell_type": "code",
      "metadata": {
        "colab": {
          "base_uri": "https://localhost:8080/"
        },
        "id": "GN4t8MMSLXzV",
        "outputId": "7e97f80f-2ef9-43cb-ef50-1aaceb390ced"
      },
      "source": [
        "#Параллельная модель\n",
        "num_epochs = 100\n",
        "time_sum = 0\n",
        "for i in range(num_epochs):\n",
        "  epoch_loss = 0\n",
        "  #Параллельность\n",
        "  for j in range(num_machines):\n",
        "    time_start = time.time()\n",
        "    epoch_loss += learning_func(X[j], w[j], y[j])\n",
        "    time_sum += time.time() - time_start\n",
        "  epoch_loss /= num_machines\n",
        "  #Усреднение весов\n",
        "  w = avg_w(w)\n",
        "  if(i + 1) % 10 == 0:\n",
        "    print(f'epoch: {i + 1}, avg_loss = {epoch_loss.tolist():.4f}')\n",
        "print(\"Время обучения параллельной модели: %s сек\" % (time_sum / num_machines))"
      ],
      "execution_count": null,
      "outputs": [
        {
          "output_type": "stream",
          "text": [
            "epoch: 10, avg_loss = 0.0104\n",
            "epoch: 20, avg_loss = 0.0103\n",
            "epoch: 30, avg_loss = 0.0102\n",
            "epoch: 40, avg_loss = 0.0102\n",
            "epoch: 50, avg_loss = 0.0102\n",
            "epoch: 60, avg_loss = 0.0101\n",
            "epoch: 70, avg_loss = 0.0101\n",
            "epoch: 80, avg_loss = 0.0101\n",
            "epoch: 90, avg_loss = 0.0101\n",
            "epoch: 100, avg_loss = 0.0101\n",
            "Время обучения параллельной модели: 0.08768906593322753 сек\n"
          ],
          "name": "stdout"
        }
      ]
    },
    {
      "cell_type": "code",
      "metadata": {
        "id": "VfUcE31oV2Yr"
      },
      "source": [
        "optimizer = torch.optim.SGD([w_s], lr=0.01)"
      ],
      "execution_count": null,
      "outputs": []
    },
    {
      "cell_type": "code",
      "metadata": {
        "colab": {
          "base_uri": "https://localhost:8080/"
        },
        "id": "TVbbJo5GVZ12",
        "outputId": "83b13aa8-f3e2-409e-91b8-5c4dd8eee274"
      },
      "source": [
        "#Обычная модель\n",
        "#Обучение\n",
        "num_epochs = 100\n",
        "time_start = time.time()\n",
        "for i in range(num_epochs):\n",
        "    y_predicted = model(X_s, w_s)\n",
        "    loss = MSE(y_predicted, y_s)\n",
        "    loss.backward(retain_graph=True)\n",
        "    optimizer.step()\n",
        "    optimizer.zero_grad()\n",
        "\n",
        "    if(i + 1) % 10 == 0:\n",
        "      print(f'epoch: {i + 1}, loss = {loss:.4f}')\n",
        "print(\"Время обучения обычной модели: %s сек\" % (time.time() - time_start))"
      ],
      "execution_count": null,
      "outputs": [
        {
          "output_type": "stream",
          "text": [
            "epoch: 10, loss = 1.1792\n",
            "epoch: 20, loss = 0.7887\n",
            "epoch: 30, loss = 0.5286\n",
            "epoch: 40, loss = 0.3554\n",
            "epoch: 50, loss = 0.2400\n",
            "epoch: 60, loss = 0.1632\n",
            "epoch: 70, loss = 0.1121\n",
            "epoch: 80, loss = 0.0780\n",
            "epoch: 90, loss = 0.0553\n",
            "epoch: 100, loss = 0.0402\n",
            "Время обучения обычной модели: 0.18718218803405762 сек\n"
          ],
          "name": "stdout"
        }
      ]
    },
    {
      "cell_type": "code",
      "metadata": {
        "id": "TOy7lw2EYw8w"
      },
      "source": [
        "#Склеиваем данные обратно в один тензор\n",
        "y_to_plt, X_to_plt, y_pred_to_plt = [], [], []\n",
        "for i in range(num_machines):\n",
        "  y_to_plt.extend(y[i].tolist())\n",
        "  X_to_plt.extend(X[i].tolist())\n",
        "  y_pred_to_plt.extend(model(X[i], w[i]).tolist())\n",
        "\n",
        "y_to_plt = torch.FloatTensor(y_to_plt)\n",
        "X_to_plt = torch.FloatTensor(X_to_plt)\n",
        "y_pred_to_plt = torch.FloatTensor(y_pred_to_plt)"
      ],
      "execution_count": null,
      "outputs": []
    },
    {
      "cell_type": "code",
      "metadata": {
        "colab": {
          "base_uri": "https://localhost:8080/",
          "height": 265
        },
        "id": "3M52I5RNLaA-",
        "outputId": "292cb7fe-4f66-4934-fc5f-fd8f270a2355"
      },
      "source": [
        "plt.plot(X_to_plt.detach().numpy(), y_to_plt.detach().numpy(), 'ro')\n",
        "plt.plot(X_to_plt.detach().numpy(), y_pred_to_plt.detach().numpy(), 'b')\n",
        "plt.plot(X_s.detach().numpy(), y_predicted.detach().numpy(), 'g')\n",
        "plt.show()"
      ],
      "execution_count": null,
      "outputs": [
        {
          "output_type": "display_data",
          "data": {
            "image/png": "[encoded data removed]",
            "text/plain": [
              "<Figure size 432x288 with 1 Axes>"
            ]
          },
          "metadata": {
            "tags": [],
            "needs_background": "light"
          }
        }
      ]
    },
    {
      "cell_type": "code",
      "metadata": {
        "id": "OAp-K4mkXqZd"
      },
      "source": [
        ""
      ],
      "execution_count": null,
      "outputs": []
    }
  ]
}